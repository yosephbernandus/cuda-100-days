{
  "nbformat": 4,
  "nbformat_minor": 0,
  "metadata": {
    "colab": {
      "provenance": [],
      "gpuType": "T4",
      "toc_visible": true
    },
    "kernelspec": {
      "name": "python3",
      "display_name": "Python 3"
    },
    "language_info": {
      "name": "python"
    },
    "accelerator": "GPU"
  },
  "cells": [
    {
      "cell_type": "code",
      "execution_count": 1,
      "metadata": {
        "id": "bphDmE_X07Lt",
        "outputId": "6bf8566b-179e-4def-ffd3-4eb3497b8ddb",
        "colab": {
          "base_uri": "https://localhost:8080/"
        }
      },
      "outputs": [
        {
          "output_type": "stream",
          "name": "stdout",
          "text": [
            "nvcc: NVIDIA (R) Cuda compiler driver\n",
            "Copyright (c) 2005-2024 NVIDIA Corporation\n",
            "Built on Thu_Jun__6_02:18:23_PDT_2024\n",
            "Cuda compilation tools, release 12.5, V12.5.82\n",
            "Build cuda_12.5.r12.5/compiler.34385749_0\n"
          ]
        }
      ],
      "source": [
        "!nvcc --version"
      ]
    },
    {
      "cell_type": "code",
      "source": [
        "!nvidia-smi"
      ],
      "metadata": {
        "id": "aqtNLIVX1fLs",
        "outputId": "80864f52-2338-4e5c-eae9-039d01103c11",
        "colab": {
          "base_uri": "https://localhost:8080/"
        }
      },
      "execution_count": 2,
      "outputs": [
        {
          "output_type": "stream",
          "name": "stdout",
          "text": [
            "Sat Apr  5 07:44:19 2025       \n",
            "+-----------------------------------------------------------------------------------------+\n",
            "| NVIDIA-SMI 550.54.15              Driver Version: 550.54.15      CUDA Version: 12.4     |\n",
            "|-----------------------------------------+------------------------+----------------------+\n",
            "| GPU  Name                 Persistence-M | Bus-Id          Disp.A | Volatile Uncorr. ECC |\n",
            "| Fan  Temp   Perf          Pwr:Usage/Cap |           Memory-Usage | GPU-Util  Compute M. |\n",
            "|                                         |                        |               MIG M. |\n",
            "|=========================================+========================+======================|\n",
            "|   0  Tesla T4                       Off |   00000000:00:04.0 Off |                    0 |\n",
            "| N/A   37C    P8              9W /   70W |       0MiB /  15360MiB |      0%      Default |\n",
            "|                                         |                        |                  N/A |\n",
            "+-----------------------------------------+------------------------+----------------------+\n",
            "                                                                                         \n",
            "+-----------------------------------------------------------------------------------------+\n",
            "| Processes:                                                                              |\n",
            "|  GPU   GI   CI        PID   Type   Process name                              GPU Memory |\n",
            "|        ID   ID                                                               Usage      |\n",
            "|=========================================================================================|\n",
            "|  No running processes found                                                             |\n",
            "+-----------------------------------------------------------------------------------------+\n"
          ]
        }
      ]
    },
    {
      "cell_type": "code",
      "source": [
        "%%writefile vec-add.cu\n",
        "#include <cassert>\n",
        "#include <cstdlib>\n",
        "\n",
        "__global__ void vecAddKernel(float *A, float *B, float *C, int n) {\n",
        "  int i = threadIdx.x + blockDim.x * blockIdx.x;\n",
        "  if (i < n) {\n",
        "    C[i] = A[i] + B[i];\n",
        "  }\n",
        "}\n",
        "\n",
        "void vecAdd(float *A, float *B, float *C, int n) {\n",
        "  float *A_d, *B_d, *C_d;\n",
        "  int size = n * sizeof(float);\n",
        "\n",
        "  cudaMalloc((void **)&A_d, size);\n",
        "  cudaMalloc((void **)&B_d, size);\n",
        "  cudaMalloc((void **)&C_d, size);\n",
        "\n",
        "  cudaMemcpy(A_d, A, size, cudaMemcpyHostToDevice);\n",
        "  cudaMemcpy(B_d, B, size, cudaMemcpyHostToDevice);\n",
        "\n",
        "  vecAddKernel<<<ceil(n / 256.0), 256>>>(A_d, B_d, C_d, n);\n",
        "\n",
        "  cudaMemcpy(C, C_d, size, cudaMemcpyDeviceToHost);\n",
        "\n",
        "  cudaFree(A_d);\n",
        "  cudaFree(B_d);\n",
        "  cudaFree(C_d);\n",
        "}\n",
        "\n",
        "int main() {\n",
        "  int n = 128;\n",
        "  size_t size = n * sizeof(float);\n",
        "  float *A_h = (float *)malloc(size);\n",
        "  float *B_h = (float *)malloc(size);\n",
        "  float *C_h = (float *)malloc(size);\n",
        "\n",
        "  for (size_t i = 0; i < n; i++) {\n",
        "    A_h[i] = 1;\n",
        "    B_h[i] = 2;\n",
        "  }\n",
        "\n",
        "  vecAdd(A_h, B_h, C_h, n);\n",
        "\n",
        "  for (size_t i = 0; i < n; i++) {\n",
        "    assert(C_h[i] == 3);\n",
        "  }\n",
        "\n",
        "  return 0;\n",
        "}"
      ],
      "metadata": {
        "id": "YyO5P2y02jRV",
        "outputId": "eac97cdf-71b0-40d9-a0b9-077a274c41ce",
        "colab": {
          "base_uri": "https://localhost:8080/"
        }
      },
      "execution_count": 7,
      "outputs": [
        {
          "output_type": "stream",
          "name": "stdout",
          "text": [
            "Overwriting vec-add.cu\n"
          ]
        }
      ]
    },
    {
      "cell_type": "code",
      "source": [
        "!nvcc -o vec-add vec-add.cu -arch=sm_75 -run"
      ],
      "metadata": {
        "id": "Gvq9IJZ_5_TV",
        "outputId": "197b7876-fc86-4d43-dd36-cc20bfed5685",
        "colab": {
          "base_uri": "https://localhost:8080/"
        }
      },
      "execution_count": 9,
      "outputs": [
        {
          "output_type": "stream",
          "name": "stdout",
          "text": [
            "vec-add: vec-add.cu:46: int main(): Assertion `C_h[i] == 2' failed.\n",
            "Aborted (core dumped)\n"
          ]
        }
      ]
    },
    {
      "cell_type": "code",
      "source": [
        "!./vec-add"
      ],
      "metadata": {
        "id": "cZ1uNEIB6ZQx",
        "outputId": "e0b4f317-cbd6-47c4-c906-014937c38d05",
        "colab": {
          "base_uri": "https://localhost:8080/"
        }
      },
      "execution_count": 10,
      "outputs": [
        {
          "output_type": "stream",
          "name": "stdout",
          "text": [
            "vec-add: vec-add.cu:46: int main(): Assertion `C_h[i] == 2' failed.\n"
          ]
        }
      ]
    }
  ]
}